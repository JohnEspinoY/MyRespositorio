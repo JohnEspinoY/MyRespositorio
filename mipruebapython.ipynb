{
  "nbformat": 4,
  "nbformat_minor": 0,
  "metadata": {
    "colab": {
      "provenance": [],
      "authorship_tag": "ABX9TyMgkQwl7hhaqoS2QHwf3iGE",
      "include_colab_link": true
    },
    "kernelspec": {
      "name": "python3",
      "display_name": "Python 3"
    },
    "language_info": {
      "name": "python"
    }
  },
  "cells": [
    {
      "cell_type": "markdown",
      "metadata": {
        "id": "view-in-github",
        "colab_type": "text"
      },
      "source": [
        "<a href=\"https://colab.research.google.com/github/JohnEspinoY/MyRespositorio/blob/main/mipruebapython.ipynb\" target=\"_parent\"><img src=\"https://colab.research.google.com/assets/colab-badge.svg\" alt=\"Open In Colab\"/></a>"
      ]
    },
    {
      "cell_type": "code",
      "execution_count": null,
      "metadata": {
        "id": "AReYql0_CsNi"
      },
      "outputs": [],
      "source": []
    },
    {
      "cell_type": "markdown",
      "source": [
        "#Iniciando con coogle colab\n",
        "### mi primer colab\n",
        "\n",
        "*aprender\n",
        "*practicar\n",
        "*practicar"
      ],
      "metadata": {
        "id": "BNHxmHdDC-gr"
      }
    },
    {
      "cell_type": "code",
      "source": [
        "import uuid\n",
        "\n",
        "class MyClass:\n",
        "    def __init__(self, *args, **kwargs):\n",
        "        self.id = str(uuid.uuid4())\n",
        "        self.data = {'id': self.id, **kwargs}\n",
        "        # aquí puede agregar cualquier otra inicialización que desee\n",
        "\n",
        "my_dict = {'name': 'Juan', 'age': 30, 'city': 'Bogotá'}\n",
        "my_obj = MyClass(**my_dict)\n",
        "print(my_obj.data) # Output: {'id': '<un ID único generado por uuid.uuid4()>', 'name': 'Juan', 'age': 30, 'city': 'Bogotá'}"
      ],
      "metadata": {
        "colab": {
          "base_uri": "https://localhost:8080/"
        },
        "id": "yUmWGfysDPdn",
        "outputId": "6a1ae5a9-f3d0-4474-9744-69adcc968cb0"
      },
      "execution_count": 11,
      "outputs": [
        {
          "output_type": "stream",
          "name": "stdout",
          "text": [
            "{'id': '75bc94ed-0fc2-4e45-9245-089ed564e098', 'name': 'Juan', 'age': 30, 'city': 'Bogotá'}\n"
          ]
        }
      ]
    }
  ]
}